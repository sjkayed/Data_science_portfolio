{
 "cells": [
  {
   "cell_type": "markdown",
   "metadata": {},
   "source": [
    "data can be downloaded from https://archive.ics.uci.edu/ml/machine-learning-databases/autos/"
   ]
  },
  {
   "cell_type": "markdown",
   "metadata": {
    "collapsed": false
   },
   "source": [
    "This database contains car's market prices and different attributes. This includes normalized losses, which represents the average loss per year for insuring a specific car type."
   ]
  },
  {
   "cell_type": "markdown",
   "metadata": {},
   "source": [
    "first import the data and give appropriate column headings"
   ]
  },
  {
   "cell_type": "code",
   "execution_count": 1,
   "metadata": {
    "collapsed": true
   },
   "outputs": [],
   "source": [
    "import pandas as pd\n",
    "import numpy as np\n",
    "from sklearn.neighbors import KNeighborsRegressor\n",
    "from sklearn.metrics import mean_squared_error\n",
    "\n",
    "cols = ['symboling', 'normalized-losses', 'make', 'fuel-type', 'aspiration', 'num-of-doors', 'body-style', \n",
    "        'drive-wheels', 'engine-location', 'wheel-base', 'length', 'width', 'height', 'curb-weight', 'engine-type', \n",
    "        'num-of-cylinders', 'engine-size', 'fuel-system', 'bore', 'stroke', 'compression-rate', 'horsepower', 'peak-rpm', 'city-mpg', 'highway-mpg', 'price']\n",
    "cars=pd.read_csv('imports-85.data',delimiter=',',names=cols)"
   ]
  },
  {
   "cell_type": "markdown",
   "metadata": {},
   "source": [
    "second clean data by replacing ? with Nan, removing Nan values and normalizing values"
   ]
  },
  {
   "cell_type": "code",
   "execution_count": 2,
   "metadata": {
    "collapsed": false
   },
   "outputs": [],
   "source": [
    "cars=cars.replace('?', np.nan)\n",
    "cars['normalized-losses']=pd.to_numeric(cars['normalized-losses'])\n",
    "cars_df=cars.dropna()\n"
   ]
  },
  {
   "cell_type": "code",
   "execution_count": 3,
   "metadata": {
    "collapsed": false
   },
   "outputs": [
    {
     "data": {
      "text/plain": [
       "3      3.40\n",
       "4      3.40\n",
       "6      3.40\n",
       "8      3.40\n",
       "10     2.80\n",
       "11     2.80\n",
       "12     3.19\n",
       "13     3.19\n",
       "18     3.03\n",
       "19     3.11\n",
       "20     3.11\n",
       "21     3.23\n",
       "22     3.23\n",
       "23     3.39\n",
       "24     3.23\n",
       "25     3.23\n",
       "26     3.23\n",
       "28     3.46\n",
       "29     3.90\n",
       "30     3.41\n",
       "31     3.41\n",
       "32     3.07\n",
       "33     3.41\n",
       "34     3.41\n",
       "35     3.41\n",
       "36     3.41\n",
       "37     3.58\n",
       "38     3.58\n",
       "39     3.58\n",
       "40     3.58\n",
       "       ... \n",
       "170    3.50\n",
       "171    3.50\n",
       "172    3.50\n",
       "173    3.54\n",
       "174    3.35\n",
       "175    3.54\n",
       "176    3.54\n",
       "177    3.54\n",
       "178    3.35\n",
       "179    3.35\n",
       "180    3.35\n",
       "182    3.40\n",
       "183    3.40\n",
       "184    3.40\n",
       "185    3.40\n",
       "186    3.40\n",
       "187    3.40\n",
       "188    3.40\n",
       "190    3.40\n",
       "194    3.15\n",
       "195    3.15\n",
       "196    3.15\n",
       "197    3.15\n",
       "198    3.15\n",
       "199    3.15\n",
       "200    3.15\n",
       "201    3.15\n",
       "202    2.87\n",
       "203    3.40\n",
       "204    3.15\n",
       "Name: stroke, Length: 159, dtype: float64"
      ]
     },
     "execution_count": 3,
     "metadata": {},
     "output_type": "execute_result"
    }
   ],
   "source": [
    "# convert columns that are not numeric to numeric before normalizing\n",
    "pd.to_numeric(cars_df['horsepower'])\n",
    "pd.to_numeric(cars['peak-rpm'])\n",
    "pd.to_numeric(cars_df['price'])\n",
    "pd.to_numeric(cars_df['bore'])\n",
    "pd.to_numeric(cars_df['stroke'])"
   ]
  },
  {
   "cell_type": "code",
   "execution_count": 4,
   "metadata": {
    "collapsed": false
   },
   "outputs": [],
   "source": [
    "#normalize columns so that all values fall between 0 and 1\n",
    "hold_rel=cars_df.select_dtypes(include=['number'])\n",
    "hold_rel=hold_rel.astype(np.float64)\n",
    "hold_obs=cars_df.select_dtypes(include=['object'])\n",
    "hold_shape=hold_rel.shape\n",
    "hold_test=hold_rel\n",
    "for i in range(0,hold_shape[1]):\n",
    "    min_hold=hold_rel.iloc[:,i].min()\n",
    "    max_hold=hold_rel.iloc[:,i].max()\n",
    "    dif_hold=max_hold-min_hold\n",
    "    for f,v in enumerate (hold_rel.iloc[:,i]):\n",
    "        hold_rel.iat[f,i]=(((v-min_hold)/dif_hold)) \n",
    "cars_new=pd.concat([hold_rel,hold_obs],axis=1)\n"
   ]
  },
  {
   "cell_type": "markdown",
   "metadata": {},
   "source": [
    "Third, run different k nearest neighbor models predicting normalized losses.\n",
    "\n",
    "Use root mean square error to asses different model's performance"
   ]
  },
  {
   "cell_type": "code",
   "execution_count": 5,
   "metadata": {
    "collapsed": true
   },
   "outputs": [],
   "source": [
    "# the first model uses every numeric column, except for \n",
    "# the target variable, as a predictor in seperate models.\n",
    "# Each model's resulting rmse is stored in the rmse \n",
    "# variable wich is the function's output\n",
    "\n",
    "def knn_train_test_simple(df,target_vars):\n",
    "    hold_train_vars=df.select_dtypes(include=['number'])\n",
    "    hold_train_vars_final=hold_train_vars.drop([target_vars],axis=1)\n",
    "    nums_train=round(df.shape[0]*.75)\n",
    "    train=df.iloc[0:nums_train]\n",
    "    test=df.iloc[nums_train:df.shape[0]+1]\n",
    "    rmse_all={}\n",
    "    for column in hold_train_vars_final:\n",
    "        knn=KNeighborsRegressor()\n",
    "        knn.fit(train[[column]],train[[target_vars]])\n",
    "        labels=knn.predict(test[[column]])\n",
    "        mse=mean_squared_error(test[[target_vars]],labels)\n",
    "        rmse=mse**(1/2)\n",
    "        rmse_all[column]=rmse\n",
    "    return rmse_all"
   ]
  },
  {
   "cell_type": "code",
   "execution_count": 6,
   "metadata": {
    "collapsed": false
   },
   "outputs": [
    {
     "data": {
      "text/plain": [
       "{'city-mpg': 0.23637070670724428,\n",
       " 'compression-rate': 0.20391638468684053,\n",
       " 'curb-weight': 0.2818907680070063,\n",
       " 'engine-size': 0.26310486785030646,\n",
       " 'height': 0.25107602648471694,\n",
       " 'highway-mpg': 0.21476373420090886,\n",
       " 'length': 0.22945356947407242,\n",
       " 'symboling': 0.18053028680025018,\n",
       " 'wheel-base': 0.2526904108545398,\n",
       " 'width': 0.2674501137302776}"
      ]
     },
     "execution_count": 6,
     "metadata": {},
     "output_type": "execute_result"
    }
   ],
   "source": [
    "test_simple=knn_train_test_simple(cars_new,'normalized-losses')\n",
    "test_simple"
   ]
  },
  {
   "cell_type": "code",
   "execution_count": 7,
   "metadata": {
    "collapsed": false
   },
   "outputs": [],
   "source": [
    "# This model is the same as the previous, except that \n",
    "# the number of clusters is varied for each model \n",
    "from sklearn.neighbors import KNeighborsRegressor\n",
    "def knn_train_test_k_params(df,target_vars):\n",
    "    hyperparams=[x for x in range(1,10,2)]\n",
    "    hold_train_vars=df.select_dtypes(include=['number'])\n",
    "    hold_train_vars_final=hold_train_vars.drop([target_vars],axis=1)\n",
    "    nums_train=round(df.shape[0]*.75)\n",
    "    train=df.iloc[0:nums_train]\n",
    "    test=df.iloc[nums_train:df.shape[0]+1]\n",
    "    rmse_all={}\n",
    "    hold_rmse=[]\n",
    "    for column in hold_train_vars_final:\n",
    "        for i in hyperparams:\n",
    "            knn=KNeighborsRegressor(n_neighbors=i,algorithm='brute')\n",
    "            knn.fit(train[[column]],train[[target_vars]])\n",
    "            labels=knn.predict(test[[column]])\n",
    "            mse=mean_squared_error(test[[target_vars]],labels)\n",
    "            rmse=mse**(1/2)\n",
    "            hold_rmse.append(rmse)\n",
    "        rmse_all[column]=hold_rmse\n",
    "        hold_rmse=[]\n",
    "    return rmse_all\n",
    "   "
   ]
  },
  {
   "cell_type": "code",
   "execution_count": 8,
   "metadata": {
    "collapsed": false
   },
   "outputs": [
    {
     "data": {
      "text/plain": [
       "{'city-mpg': [0.28793669601443206,\n",
       "  0.26034291349824606,\n",
       "  0.24360981429106038,\n",
       "  0.23788040773993605,\n",
       "  0.2297194147192199],\n",
       " 'compression-rate': [0.2904992587908306,\n",
       "  0.23969443723864223,\n",
       "  0.21133499908879705,\n",
       "  0.21737353325238803,\n",
       "  0.2326541197167957],\n",
       " 'curb-weight': [0.2727040134681763,\n",
       "  0.2846646498685591,\n",
       "  0.2815400422194574,\n",
       "  0.27805326285597665,\n",
       "  0.2776935506987888],\n",
       " 'engine-size': [0.2522370513163002,\n",
       "  0.2675339163795007,\n",
       "  0.2622869439027802,\n",
       "  0.26960427839333323,\n",
       "  0.269642622780295],\n",
       " 'height': [0.2683073675983932,\n",
       "  0.24650674140029744,\n",
       "  0.23636247280844522,\n",
       "  0.24936451752267771,\n",
       "  0.24423415393859957],\n",
       " 'highway-mpg': [0.2932486392089582,\n",
       "  0.22765806973906522,\n",
       "  0.2343709543660044,\n",
       "  0.22341523435504446,\n",
       "  0.21719207911347618],\n",
       " 'length': [0.17256452371024325,\n",
       "  0.19248187109708442,\n",
       "  0.244207137846684,\n",
       "  0.24748146665282578,\n",
       "  0.2465364272450986],\n",
       " 'symboling': [0.2589440616862857,\n",
       "  0.266118500850959,\n",
       "  0.1601414837292246,\n",
       "  0.15788002012513214,\n",
       "  0.15545546583429345],\n",
       " 'wheel-base': [0.23200275626015848,\n",
       "  0.22772227752657895,\n",
       "  0.2422688526807552,\n",
       "  0.25422914102389754,\n",
       "  0.2633572971547604],\n",
       " 'width': [0.30198578905687407,\n",
       "  0.2870229141845603,\n",
       "  0.26214095548112154,\n",
       "  0.25915938958429274,\n",
       "  0.2531882989869735]}"
      ]
     },
     "execution_count": 8,
     "metadata": {},
     "output_type": "execute_result"
    }
   ],
   "source": [
    "test_k_vary=knn_train_test_k_params(cars_new,'normalized-losses')\n",
    "test_k_vary"
   ]
  },
  {
   "cell_type": "code",
   "execution_count": 9,
   "metadata": {
    "collapsed": false
   },
   "outputs": [
    {
     "data": {
      "image/png": "[encoded data removed]",
      "text/plain": [
       "<matplotlib.figure.Figure at 0x7f069e22afd0>"
      ]
     },
     "metadata": {},
     "output_type": "display_data"
    }
   ],
   "source": [
    "# this plots the relationship between RMSE and k clusters\n",
    "# for each model\n",
    "\n",
    "%matplotlib inline\n",
    "import matplotlib.pyplot as plt\n",
    "hyperparams=[x for x in range(1,10,2)]\n",
    "fig = plt.figure()\n",
    "d=1\n",
    "for i,v in test_k_vary.items():\n",
    "    ax=fig.add_subplot(4,4,d)\n",
    "    ax.plot(hyperparams,v)\n",
    "    ax.set_title(i)\n",
    "    d=d+1\n",
    "plt.tight_layout()\n",
    "plt.show()\n",
    "    \n",
    "    \n",
    "\n"
   ]
  },
  {
   "cell_type": "code",
   "execution_count": 10,
   "metadata": {
    "collapsed": false
   },
   "outputs": [],
   "source": [
    "# new function that uses multiple features to predict the \n",
    "# target variable\n",
    "def knn_train_test_multi(df,target_vars,test_vars):\n",
    "    nums_train=round(df.shape[0]*.75)\n",
    "    train=df.iloc[0:nums_train]\n",
    "    test=df.iloc[nums_train:df.shape[0]+1]\n",
    "    rmse={}\n",
    "    knn=KNeighborsRegressor()\n",
    "    knn.fit(train[test_vars],train[[target_vars]])\n",
    "    labels=knn.predict(test[test_vars])\n",
    "    mse=mean_squared_error(test[[target_vars]],labels)\n",
    "    rmse=mse**(1/2)\n",
    "    return rmse"
   ]
  },
  {
   "cell_type": "code",
   "execution_count": 11,
   "metadata": {
    "collapsed": false
   },
   "outputs": [
    {
     "data": {
      "text/plain": [
       "0.2509626213782056"
      ]
     },
     "execution_count": 11,
     "metadata": {},
     "output_type": "execute_result"
    }
   ],
   "source": [
    "# combine the three features that individually result in the \n",
    "# lowest RMSE into one model \n",
    "small_vals=sorted(test_simple, key=test_simple.get)[1:4]\n",
    "test_multiple_features=knn_train_test_multi(cars_new,'normalized-losses',small_vals)\n",
    "test_multiple_features"
   ]
  },
  {
   "cell_type": "code",
   "execution_count": 12,
   "metadata": {
    "collapsed": false
   },
   "outputs": [
    {
     "data": {
      "text/plain": [
       "0.25384734551007293"
      ]
     },
     "execution_count": 12,
     "metadata": {},
     "output_type": "execute_result"
    }
   ],
   "source": [
    "# combine the four features that individually result in the \n",
    "# lowest RMSE into one model \n",
    "small_vals=sorted(test_simple, key=test_simple.get)[1:5]\n",
    "test_rmse=knn_train_test_multi(cars_new,'normalized-losses',small_vals)\n",
    "test_rmse"
   ]
  },
  {
   "cell_type": "code",
   "execution_count": 13,
   "metadata": {
    "collapsed": false
   },
   "outputs": [
    {
     "data": {
      "text/plain": [
       "0.23485944617653381"
      ]
     },
     "execution_count": 13,
     "metadata": {},
     "output_type": "execute_result"
    }
   ],
   "source": [
    "# combine the five features that individually result in the \n",
    "# lowest RMSE into one model \n",
    "small_vals=sorted(test_simple, key=test_simple.get)[1:6]\n",
    "test_rmse=knn_train_test_multi(cars_new,'normalized-losses',small_vals)\n",
    "test_rmse"
   ]
  },
  {
   "cell_type": "code",
   "execution_count": 14,
   "metadata": {
    "collapsed": false
   },
   "outputs": [],
   "source": [
    "# new function that accepts multiple features and varies\n",
    "# the cluster numbers \n",
    "def knn_train_test_k_params_multi(df,target_vars,test_vars):\n",
    "    hyperparams= [x for x in range(1,26)]\n",
    "    nums_train=round(df.shape[0]*.75)\n",
    "    train=df.iloc[0:nums_train]\n",
    "    test=df.iloc[nums_train:df.shape[0]+1]\n",
    "    rmse_all={}\n",
    "    hold_rmse=[]\n",
    "    for i in hyperparams:\n",
    "        knn=KNeighborsRegressor(n_neighbors=i,algorithm='brute')\n",
    "        knn.fit(train[test_vars],train[[target_vars]])\n",
    "        labels=knn.predict(test[test_vars])\n",
    "        mse=mean_squared_error(test[[target_vars]],labels)\n",
    "        rmse=mse**(1/2)\n",
    "        hold_rmse.append(rmse)\n",
    "    rmse_all=hold_rmse\n",
    "    return rmse_all"
   ]
  },
  {
   "cell_type": "code",
   "execution_count": 15,
   "metadata": {
    "collapsed": false
   },
   "outputs": [
    {
     "data": {
      "text/plain": [
       "[<matplotlib.lines.Line2D at 0x7f069dab3b00>]"
      ]
     },
     "execution_count": 15,
     "metadata": {},
     "output_type": "execute_result"
    },
    {
     "data": {
      "image/png": "[encoded data removed]",
      "text/plain": [
       "<matplotlib.figure.Figure at 0x7f069dc18ac8>"
      ]
     },
     "metadata": {},
     "output_type": "display_data"
    }
   ],
   "source": [
    "# combine the five features that individually result in the \n",
    "# lowest RMSE into one model and vary cluster size\n",
    "small_vals=sorted(test_simple, key=test_simple.get)[1:6]\n",
    "test_rmse=knn_train_test_k_params_multi(cars_new,'normalized-losses',small_vals)\n",
    "hyperparams= [x for x in range(1,26)]\n",
    "plt.plot(hyperparams,test_rmse)\n"
   ]
  },
  {
   "cell_type": "code",
   "execution_count": 16,
   "metadata": {
    "collapsed": false
   },
   "outputs": [
    {
     "data": {
      "text/plain": [
       "[<matplotlib.lines.Line2D at 0x7f069da9e208>]"
      ]
     },
     "execution_count": 16,
     "metadata": {},
     "output_type": "execute_result"
    },
    {
     "data": {
      "image/png": "[encoded data removed]",
      "text/plain": [
       "<matplotlib.figure.Figure at 0x7f069dbcbfd0>"
      ]
     },
     "metadata": {},
     "output_type": "display_data"
    }
   ],
   "source": [
    "# combine the four features that individually result in the \n",
    "# lowest RMSE into one model and vary cluster size\n",
    "small_vals=sorted(test_simple, key=test_simple.get)[1:4]\n",
    "test_rmse=knn_train_test_k_params_multi(cars_new,'normalized-losses',small_vals)\n",
    "hyperparams= [x for x in range(1,26)]\n",
    "plt.plot(hyperparams,test_rmse)\n"
   ]
  },
  {
   "cell_type": "code",
   "execution_count": 17,
   "metadata": {
    "collapsed": false
   },
   "outputs": [
    {
     "data": {
      "text/plain": [
       "[<matplotlib.lines.Line2D at 0x7f069da05be0>]"
      ]
     },
     "execution_count": 17,
     "metadata": {},
     "output_type": "execute_result"
    },
    {
     "data": {
      "image/png": "[encoded data removed]",
      "text/plain": [
       "<matplotlib.figure.Figure at 0x7f069da6e3c8>"
      ]
     },
     "metadata": {},
     "output_type": "display_data"
    }
   ],
   "source": [
    "# combine the three features that individually result in the \n",
    "# lowest RMSE into one model and vary cluster size\n",
    "small_vals=sorted(test_simple, key=test_simple.get)[1:3]\n",
    "test_rmse=knn_train_test_k_params_multi(cars_new,'normalized-losses',small_vals)\n",
    "hyperparams= [x for x in range(1,26)]\n",
    "plt.plot(hyperparams,test_rmse)\n"
   ]
  },
  {
   "cell_type": "markdown",
   "metadata": {
    "collapsed": true
   },
   "source": [
    "From this analysis it appears that a model with 2 clusters\n",
    "using the features compression-rate and highway-mpg results in the lowest RMSE value when predicting normalized losses"
   ]
  },
  {
   "cell_type": "code",
   "execution_count": null,
   "metadata": {
    "collapsed": true
   },
   "outputs": [],
   "source": []
  }
 ],
 "metadata": {
  "kernelspec": {
   "display_name": "Python 3",
   "language": "python",
   "name": "python3"
  },
  "language_info": {
   "codemirror_mode": {
    "name": "ipython",
    "version": 3
   },
   "file_extension": ".py",
   "mimetype": "text/x-python",
   "name": "python",
   "nbconvert_exporter": "python",
   "pygments_lexer": "ipython3",
   "version": "3.4.3"
  }
 },
 "nbformat": 4,
 "nbformat_minor": 2
}
